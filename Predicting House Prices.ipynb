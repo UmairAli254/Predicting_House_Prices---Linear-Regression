{
  "nbformat": 4,
  "nbformat_minor": 0,
  "metadata": {
    "colab": {
      "provenance": []
    },
    "kernelspec": {
      "name": "python3",
      "display_name": "Python 3"
    },
    "language_info": {
      "name": "python"
    }
  },
  "cells": [
    {
      "cell_type": "code",
      "execution_count": null,
      "metadata": {
        "id": "g5_X20tRyQiw"
      },
      "outputs": [],
      "source": [
        "import pandas as pd\n",
        "import numpy as np\n",
        "import sklearn\n",
        "import matplotlib.pyplot as plt\n",
        "import seaborn as sns"
      ]
    },
    {
      "cell_type": "code",
      "source": [
        "data = pd.read_csv(\"USA_Housing.csv\")\n",
        "data.sample(6)"
      ],
      "metadata": {
        "colab": {
          "base_uri": "https://localhost:8080/",
          "height": 237
        },
        "id": "22FZXWU60Vtw",
        "outputId": "6e804bfe-148e-47af-a260-19006c6d03fb"
      },
      "execution_count": null,
      "outputs": [
        {
          "output_type": "execute_result",
          "data": {
            "text/plain": [
              "      Avg. Area Income  Avg. Area House Age  Avg. Area Number of Rooms  \\\n",
              "2412      72099.665390             5.546065                   6.466645   \n",
              "423       73930.839946             5.281561                   7.681342   \n",
              "3647      65692.618196             6.464477                   7.861412   \n",
              "234       69607.133665             7.077681                   7.833081   \n",
              "2000      55813.296473             8.318992                   7.726407   \n",
              "617       62699.439217             6.358747                   7.460135   \n",
              "\n",
              "      Avg. Area Number of Bedrooms  Area Population         Price  \\\n",
              "2412                          3.41     36902.145390  1.411054e+06   \n",
              "423                           4.16     42702.403279  1.363087e+06   \n",
              "3647                          6.16     39934.516974  1.416239e+06   \n",
              "234                           3.35     34609.040215  1.514350e+06   \n",
              "2000                          6.04     22779.369949  1.164497e+06   \n",
              "617                           4.28     37816.337696  1.306368e+06   \n",
              "\n",
              "                                                Address  \n",
              "2412               636 Smith Greens\\nAlexland, AK 05521  \n",
              "423     6182 Hannah Locks Apt. 664\\nEmilyside, PA 31748  \n",
              "3647              Unit 6429 Box 3831\\nDPO AA 61324-4127  \n",
              "234   8781 Robert Lakes Suite 880\\nEast Wendy, ID 51813  \n",
              "2000  65858 Simmons Coves Apt. 430\\nEast Garyshire, ...  \n",
              "617      0454 Humphrey Forks\\nNorth Paulville, NJ 17081  "
            ],
            "text/html": [
              "\n",
              "  <div id=\"df-2a290762-244c-49fd-bec7-a4eb57667f24\" class=\"colab-df-container\">\n",
              "    <div>\n",
              "<style scoped>\n",
              "    .dataframe tbody tr th:only-of-type {\n",
              "        vertical-align: middle;\n",
              "    }\n",
              "\n",
              "    .dataframe tbody tr th {\n",
              "        vertical-align: top;\n",
              "    }\n",
              "\n",
              "    .dataframe thead th {\n",
              "        text-align: right;\n",
              "    }\n",
              "</style>\n",
              "<table border=\"1\" class=\"dataframe\">\n",
              "  <thead>\n",
              "    <tr style=\"text-align: right;\">\n",
              "      <th></th>\n",
              "      <th>Avg. Area Income</th>\n",
              "      <th>Avg. Area House Age</th>\n",
              "      <th>Avg. Area Number of Rooms</th>\n",
              "      <th>Avg. Area Number of Bedrooms</th>\n",
              "      <th>Area Population</th>\n",
              "      <th>Price</th>\n",
              "      <th>Address</th>\n",
              "    </tr>\n",
              "  </thead>\n",
              "  <tbody>\n",
              "    <tr>\n",
              "      <th>2412</th>\n",
              "      <td>72099.665390</td>\n",
              "      <td>5.546065</td>\n",
              "      <td>6.466645</td>\n",
              "      <td>3.41</td>\n",
              "      <td>36902.145390</td>\n",
              "      <td>1.411054e+06</td>\n",
              "      <td>636 Smith Greens\\nAlexland, AK 05521</td>\n",
              "    </tr>\n",
              "    <tr>\n",
              "      <th>423</th>\n",
              "      <td>73930.839946</td>\n",
              "      <td>5.281561</td>\n",
              "      <td>7.681342</td>\n",
              "      <td>4.16</td>\n",
              "      <td>42702.403279</td>\n",
              "      <td>1.363087e+06</td>\n",
              "      <td>6182 Hannah Locks Apt. 664\\nEmilyside, PA 31748</td>\n",
              "    </tr>\n",
              "    <tr>\n",
              "      <th>3647</th>\n",
              "      <td>65692.618196</td>\n",
              "      <td>6.464477</td>\n",
              "      <td>7.861412</td>\n",
              "      <td>6.16</td>\n",
              "      <td>39934.516974</td>\n",
              "      <td>1.416239e+06</td>\n",
              "      <td>Unit 6429 Box 3831\\nDPO AA 61324-4127</td>\n",
              "    </tr>\n",
              "    <tr>\n",
              "      <th>234</th>\n",
              "      <td>69607.133665</td>\n",
              "      <td>7.077681</td>\n",
              "      <td>7.833081</td>\n",
              "      <td>3.35</td>\n",
              "      <td>34609.040215</td>\n",
              "      <td>1.514350e+06</td>\n",
              "      <td>8781 Robert Lakes Suite 880\\nEast Wendy, ID 51813</td>\n",
              "    </tr>\n",
              "    <tr>\n",
              "      <th>2000</th>\n",
              "      <td>55813.296473</td>\n",
              "      <td>8.318992</td>\n",
              "      <td>7.726407</td>\n",
              "      <td>6.04</td>\n",
              "      <td>22779.369949</td>\n",
              "      <td>1.164497e+06</td>\n",
              "      <td>65858 Simmons Coves Apt. 430\\nEast Garyshire, ...</td>\n",
              "    </tr>\n",
              "    <tr>\n",
              "      <th>617</th>\n",
              "      <td>62699.439217</td>\n",
              "      <td>6.358747</td>\n",
              "      <td>7.460135</td>\n",
              "      <td>4.28</td>\n",
              "      <td>37816.337696</td>\n",
              "      <td>1.306368e+06</td>\n",
              "      <td>0454 Humphrey Forks\\nNorth Paulville, NJ 17081</td>\n",
              "    </tr>\n",
              "  </tbody>\n",
              "</table>\n",
              "</div>\n",
              "    <div class=\"colab-df-buttons\">\n",
              "\n",
              "  <div class=\"colab-df-container\">\n",
              "    <button class=\"colab-df-convert\" onclick=\"convertToInteractive('df-2a290762-244c-49fd-bec7-a4eb57667f24')\"\n",
              "            title=\"Convert this dataframe to an interactive table.\"\n",
              "            style=\"display:none;\">\n",
              "\n",
              "  <svg xmlns=\"http://www.w3.org/2000/svg\" height=\"24px\" viewBox=\"0 -960 960 960\">\n",
              "    <path d=\"M120-120v-720h720v720H120Zm60-500h600v-160H180v160Zm220 220h160v-160H400v160Zm0 220h160v-160H400v160ZM180-400h160v-160H180v160Zm440 0h160v-160H620v160ZM180-180h160v-160H180v160Zm440 0h160v-160H620v160Z\"/>\n",
              "  </svg>\n",
              "    </button>\n",
              "\n",
              "  <style>\n",
              "    .colab-df-container {\n",
              "      display:flex;\n",
              "      gap: 12px;\n",
              "    }\n",
              "\n",
              "    .colab-df-convert {\n",
              "      background-color: #E8F0FE;\n",
              "      border: none;\n",
              "      border-radius: 50%;\n",
              "      cursor: pointer;\n",
              "      display: none;\n",
              "      fill: #1967D2;\n",
              "      height: 32px;\n",
              "      padding: 0 0 0 0;\n",
              "      width: 32px;\n",
              "    }\n",
              "\n",
              "    .colab-df-convert:hover {\n",
              "      background-color: #E2EBFA;\n",
              "      box-shadow: 0px 1px 2px rgba(60, 64, 67, 0.3), 0px 1px 3px 1px rgba(60, 64, 67, 0.15);\n",
              "      fill: #174EA6;\n",
              "    }\n",
              "\n",
              "    .colab-df-buttons div {\n",
              "      margin-bottom: 4px;\n",
              "    }\n",
              "\n",
              "    [theme=dark] .colab-df-convert {\n",
              "      background-color: #3B4455;\n",
              "      fill: #D2E3FC;\n",
              "    }\n",
              "\n",
              "    [theme=dark] .colab-df-convert:hover {\n",
              "      background-color: #434B5C;\n",
              "      box-shadow: 0px 1px 3px 1px rgba(0, 0, 0, 0.15);\n",
              "      filter: drop-shadow(0px 1px 2px rgba(0, 0, 0, 0.3));\n",
              "      fill: #FFFFFF;\n",
              "    }\n",
              "  </style>\n",
              "\n",
              "    <script>\n",
              "      const buttonEl =\n",
              "        document.querySelector('#df-2a290762-244c-49fd-bec7-a4eb57667f24 button.colab-df-convert');\n",
              "      buttonEl.style.display =\n",
              "        google.colab.kernel.accessAllowed ? 'block' : 'none';\n",
              "\n",
              "      async function convertToInteractive(key) {\n",
              "        const element = document.querySelector('#df-2a290762-244c-49fd-bec7-a4eb57667f24');\n",
              "        const dataTable =\n",
              "          await google.colab.kernel.invokeFunction('convertToInteractive',\n",
              "                                                    [key], {});\n",
              "        if (!dataTable) return;\n",
              "\n",
              "        const docLinkHtml = 'Like what you see? Visit the ' +\n",
              "          '<a target=\"_blank\" href=https://colab.research.google.com/notebooks/data_table.ipynb>data table notebook</a>'\n",
              "          + ' to learn more about interactive tables.';\n",
              "        element.innerHTML = '';\n",
              "        dataTable['output_type'] = 'display_data';\n",
              "        await google.colab.output.renderOutput(dataTable, element);\n",
              "        const docLink = document.createElement('div');\n",
              "        docLink.innerHTML = docLinkHtml;\n",
              "        element.appendChild(docLink);\n",
              "      }\n",
              "    </script>\n",
              "  </div>\n",
              "\n",
              "\n",
              "<div id=\"df-b9ddec8e-d825-4eea-85d7-7db3af68b149\">\n",
              "  <button class=\"colab-df-quickchart\" onclick=\"quickchart('df-b9ddec8e-d825-4eea-85d7-7db3af68b149')\"\n",
              "            title=\"Suggest charts\"\n",
              "            style=\"display:none;\">\n",
              "\n",
              "<svg xmlns=\"http://www.w3.org/2000/svg\" height=\"24px\"viewBox=\"0 0 24 24\"\n",
              "     width=\"24px\">\n",
              "    <g>\n",
              "        <path d=\"M19 3H5c-1.1 0-2 .9-2 2v14c0 1.1.9 2 2 2h14c1.1 0 2-.9 2-2V5c0-1.1-.9-2-2-2zM9 17H7v-7h2v7zm4 0h-2V7h2v10zm4 0h-2v-4h2v4z\"/>\n",
              "    </g>\n",
              "</svg>\n",
              "  </button>\n",
              "\n",
              "<style>\n",
              "  .colab-df-quickchart {\n",
              "      --bg-color: #E8F0FE;\n",
              "      --fill-color: #1967D2;\n",
              "      --hover-bg-color: #E2EBFA;\n",
              "      --hover-fill-color: #174EA6;\n",
              "      --disabled-fill-color: #AAA;\n",
              "      --disabled-bg-color: #DDD;\n",
              "  }\n",
              "\n",
              "  [theme=dark] .colab-df-quickchart {\n",
              "      --bg-color: #3B4455;\n",
              "      --fill-color: #D2E3FC;\n",
              "      --hover-bg-color: #434B5C;\n",
              "      --hover-fill-color: #FFFFFF;\n",
              "      --disabled-bg-color: #3B4455;\n",
              "      --disabled-fill-color: #666;\n",
              "  }\n",
              "\n",
              "  .colab-df-quickchart {\n",
              "    background-color: var(--bg-color);\n",
              "    border: none;\n",
              "    border-radius: 50%;\n",
              "    cursor: pointer;\n",
              "    display: none;\n",
              "    fill: var(--fill-color);\n",
              "    height: 32px;\n",
              "    padding: 0;\n",
              "    width: 32px;\n",
              "  }\n",
              "\n",
              "  .colab-df-quickchart:hover {\n",
              "    background-color: var(--hover-bg-color);\n",
              "    box-shadow: 0 1px 2px rgba(60, 64, 67, 0.3), 0 1px 3px 1px rgba(60, 64, 67, 0.15);\n",
              "    fill: var(--button-hover-fill-color);\n",
              "  }\n",
              "\n",
              "  .colab-df-quickchart-complete:disabled,\n",
              "  .colab-df-quickchart-complete:disabled:hover {\n",
              "    background-color: var(--disabled-bg-color);\n",
              "    fill: var(--disabled-fill-color);\n",
              "    box-shadow: none;\n",
              "  }\n",
              "\n",
              "  .colab-df-spinner {\n",
              "    border: 2px solid var(--fill-color);\n",
              "    border-color: transparent;\n",
              "    border-bottom-color: var(--fill-color);\n",
              "    animation:\n",
              "      spin 1s steps(1) infinite;\n",
              "  }\n",
              "\n",
              "  @keyframes spin {\n",
              "    0% {\n",
              "      border-color: transparent;\n",
              "      border-bottom-color: var(--fill-color);\n",
              "      border-left-color: var(--fill-color);\n",
              "    }\n",
              "    20% {\n",
              "      border-color: transparent;\n",
              "      border-left-color: var(--fill-color);\n",
              "      border-top-color: var(--fill-color);\n",
              "    }\n",
              "    30% {\n",
              "      border-color: transparent;\n",
              "      border-left-color: var(--fill-color);\n",
              "      border-top-color: var(--fill-color);\n",
              "      border-right-color: var(--fill-color);\n",
              "    }\n",
              "    40% {\n",
              "      border-color: transparent;\n",
              "      border-right-color: var(--fill-color);\n",
              "      border-top-color: var(--fill-color);\n",
              "    }\n",
              "    60% {\n",
              "      border-color: transparent;\n",
              "      border-right-color: var(--fill-color);\n",
              "    }\n",
              "    80% {\n",
              "      border-color: transparent;\n",
              "      border-right-color: var(--fill-color);\n",
              "      border-bottom-color: var(--fill-color);\n",
              "    }\n",
              "    90% {\n",
              "      border-color: transparent;\n",
              "      border-bottom-color: var(--fill-color);\n",
              "    }\n",
              "  }\n",
              "</style>\n",
              "\n",
              "  <script>\n",
              "    async function quickchart(key) {\n",
              "      const quickchartButtonEl =\n",
              "        document.querySelector('#' + key + ' button');\n",
              "      quickchartButtonEl.disabled = true;  // To prevent multiple clicks.\n",
              "      quickchartButtonEl.classList.add('colab-df-spinner');\n",
              "      try {\n",
              "        const charts = await google.colab.kernel.invokeFunction(\n",
              "            'suggestCharts', [key], {});\n",
              "      } catch (error) {\n",
              "        console.error('Error during call to suggestCharts:', error);\n",
              "      }\n",
              "      quickchartButtonEl.classList.remove('colab-df-spinner');\n",
              "      quickchartButtonEl.classList.add('colab-df-quickchart-complete');\n",
              "    }\n",
              "    (() => {\n",
              "      let quickchartButtonEl =\n",
              "        document.querySelector('#df-b9ddec8e-d825-4eea-85d7-7db3af68b149 button');\n",
              "      quickchartButtonEl.style.display =\n",
              "        google.colab.kernel.accessAllowed ? 'block' : 'none';\n",
              "    })();\n",
              "  </script>\n",
              "</div>\n",
              "\n",
              "    </div>\n",
              "  </div>\n"
            ],
            "application/vnd.google.colaboratory.intrinsic+json": {
              "type": "dataframe",
              "summary": "{\n  \"name\": \"data\",\n  \"rows\": 6,\n  \"fields\": [\n    {\n      \"column\": \"Avg. Area Income\",\n      \"properties\": {\n        \"dtype\": \"number\",\n        \"std\": 6714.331460453939,\n        \"min\": 55813.296473373055,\n        \"max\": 73930.83994555451,\n        \"num_unique_values\": 6,\n        \"samples\": [\n          72099.66539036088,\n          73930.83994555451,\n          62699.43921681425\n        ],\n        \"semantic_type\": \"\",\n        \"description\": \"\"\n      }\n    },\n    {\n      \"column\": \"Avg. Area House Age\",\n      \"properties\": {\n        \"dtype\": \"number\",\n        \"std\": 1.1007152772269748,\n        \"min\": 5.281560667016422,\n        \"max\": 8.318991990846223,\n        \"num_unique_values\": 6,\n        \"samples\": [\n          5.546065429874253,\n          5.281560667016422,\n          6.358746642871367\n        ],\n        \"semantic_type\": \"\",\n        \"description\": \"\"\n      }\n    },\n    {\n      \"column\": \"Avg. Area Number of Rooms\",\n      \"properties\": {\n        \"dtype\": \"number\",\n        \"std\": 0.5282002496145352,\n        \"min\": 6.466645254480296,\n        \"max\": 7.861411940456307,\n        \"num_unique_values\": 6,\n        \"samples\": [\n          6.466645254480296,\n          7.681342023351491,\n          7.460134654526981\n        ],\n        \"semantic_type\": \"\",\n        \"description\": \"\"\n      }\n    },\n    {\n      \"column\": \"Avg. Area Number of Bedrooms\",\n      \"properties\": {\n        \"dtype\": \"number\",\n        \"std\": 1.247007083647349,\n        \"min\": 3.35,\n        \"max\": 6.16,\n        \"num_unique_values\": 6,\n        \"samples\": [\n          3.41,\n          4.16,\n          4.28\n        ],\n        \"semantic_type\": \"\",\n        \"description\": \"\"\n      }\n    },\n    {\n      \"column\": \"Area Population\",\n      \"properties\": {\n        \"dtype\": \"number\",\n        \"std\": 6942.224568056238,\n        \"min\": 22779.36994945125,\n        \"max\": 42702.40327879457,\n        \"num_unique_values\": 6,\n        \"samples\": [\n          36902.14538985521,\n          42702.40327879457,\n          37816.33769638553\n        ],\n        \"semantic_type\": \"\",\n        \"description\": \"\"\n      }\n    },\n    {\n      \"column\": \"Price\",\n      \"properties\": {\n        \"dtype\": \"number\",\n        \"std\": 118878.06697926357,\n        \"min\": 1164497.0193326313,\n        \"max\": 1514349.692197701,\n        \"num_unique_values\": 6,\n        \"samples\": [\n          1411054.3169406827,\n          1363086.9045325571,\n          1306367.8106375176\n        ],\n        \"semantic_type\": \"\",\n        \"description\": \"\"\n      }\n    },\n    {\n      \"column\": \"Address\",\n      \"properties\": {\n        \"dtype\": \"string\",\n        \"num_unique_values\": 6,\n        \"samples\": [\n          \"636 Smith Greens\\nAlexland, AK 05521\",\n          \"6182 Hannah Locks Apt. 664\\nEmilyside, PA 31748\",\n          \"0454 Humphrey Forks\\nNorth Paulville, NJ 17081\"\n        ],\n        \"semantic_type\": \"\",\n        \"description\": \"\"\n      }\n    }\n  ]\n}"
            }
          },
          "metadata": {},
          "execution_count": 2
        }
      ]
    },
    {
      "cell_type": "code",
      "source": [
        "data.shape"
      ],
      "metadata": {
        "colab": {
          "base_uri": "https://localhost:8080/"
        },
        "id": "s3EYlpm90t9y",
        "outputId": "f7b4ff26-32d0-413e-ea01-4f84f5abd38c"
      },
      "execution_count": null,
      "outputs": [
        {
          "output_type": "execute_result",
          "data": {
            "text/plain": [
              "(5000, 7)"
            ]
          },
          "metadata": {},
          "execution_count": 3
        }
      ]
    },
    {
      "cell_type": "code",
      "source": [
        "data.describe()"
      ],
      "metadata": {
        "colab": {
          "base_uri": "https://localhost:8080/",
          "height": 300
        },
        "id": "y8oXfcpS1JS-",
        "outputId": "8a5c5a28-f128-486e-faa4-b17ccd570d2f"
      },
      "execution_count": null,
      "outputs": [
        {
          "output_type": "execute_result",
          "data": {
            "text/plain": [
              "       Avg. Area Income  Avg. Area House Age  Avg. Area Number of Rooms  \\\n",
              "count       5000.000000          5000.000000                5000.000000   \n",
              "mean       68583.108984             5.977222                   6.987792   \n",
              "std        10657.991214             0.991456                   1.005833   \n",
              "min        17796.631190             2.644304                   3.236194   \n",
              "25%        61480.562388             5.322283                   6.299250   \n",
              "50%        68804.286404             5.970429                   7.002902   \n",
              "75%        75783.338666             6.650808                   7.665871   \n",
              "max       107701.748378             9.519088                  10.759588   \n",
              "\n",
              "       Avg. Area Number of Bedrooms  Area Population         Price  \n",
              "count                   5000.000000      5000.000000  5.000000e+03  \n",
              "mean                       3.981330     36163.516039  1.232073e+06  \n",
              "std                        1.234137      9925.650114  3.531176e+05  \n",
              "min                        2.000000       172.610686  1.593866e+04  \n",
              "25%                        3.140000     29403.928702  9.975771e+05  \n",
              "50%                        4.050000     36199.406689  1.232669e+06  \n",
              "75%                        4.490000     42861.290769  1.471210e+06  \n",
              "max                        6.500000     69621.713378  2.469066e+06  "
            ],
            "text/html": [
              "\n",
              "  <div id=\"df-989d8b6f-0ffa-4919-8357-df892b93abbc\" class=\"colab-df-container\">\n",
              "    <div>\n",
              "<style scoped>\n",
              "    .dataframe tbody tr th:only-of-type {\n",
              "        vertical-align: middle;\n",
              "    }\n",
              "\n",
              "    .dataframe tbody tr th {\n",
              "        vertical-align: top;\n",
              "    }\n",
              "\n",
              "    .dataframe thead th {\n",
              "        text-align: right;\n",
              "    }\n",
              "</style>\n",
              "<table border=\"1\" class=\"dataframe\">\n",
              "  <thead>\n",
              "    <tr style=\"text-align: right;\">\n",
              "      <th></th>\n",
              "      <th>Avg. Area Income</th>\n",
              "      <th>Avg. Area House Age</th>\n",
              "      <th>Avg. Area Number of Rooms</th>\n",
              "      <th>Avg. Area Number of Bedrooms</th>\n",
              "      <th>Area Population</th>\n",
              "      <th>Price</th>\n",
              "    </tr>\n",
              "  </thead>\n",
              "  <tbody>\n",
              "    <tr>\n",
              "      <th>count</th>\n",
              "      <td>5000.000000</td>\n",
              "      <td>5000.000000</td>\n",
              "      <td>5000.000000</td>\n",
              "      <td>5000.000000</td>\n",
              "      <td>5000.000000</td>\n",
              "      <td>5.000000e+03</td>\n",
              "    </tr>\n",
              "    <tr>\n",
              "      <th>mean</th>\n",
              "      <td>68583.108984</td>\n",
              "      <td>5.977222</td>\n",
              "      <td>6.987792</td>\n",
              "      <td>3.981330</td>\n",
              "      <td>36163.516039</td>\n",
              "      <td>1.232073e+06</td>\n",
              "    </tr>\n",
              "    <tr>\n",
              "      <th>std</th>\n",
              "      <td>10657.991214</td>\n",
              "      <td>0.991456</td>\n",
              "      <td>1.005833</td>\n",
              "      <td>1.234137</td>\n",
              "      <td>9925.650114</td>\n",
              "      <td>3.531176e+05</td>\n",
              "    </tr>\n",
              "    <tr>\n",
              "      <th>min</th>\n",
              "      <td>17796.631190</td>\n",
              "      <td>2.644304</td>\n",
              "      <td>3.236194</td>\n",
              "      <td>2.000000</td>\n",
              "      <td>172.610686</td>\n",
              "      <td>1.593866e+04</td>\n",
              "    </tr>\n",
              "    <tr>\n",
              "      <th>25%</th>\n",
              "      <td>61480.562388</td>\n",
              "      <td>5.322283</td>\n",
              "      <td>6.299250</td>\n",
              "      <td>3.140000</td>\n",
              "      <td>29403.928702</td>\n",
              "      <td>9.975771e+05</td>\n",
              "    </tr>\n",
              "    <tr>\n",
              "      <th>50%</th>\n",
              "      <td>68804.286404</td>\n",
              "      <td>5.970429</td>\n",
              "      <td>7.002902</td>\n",
              "      <td>4.050000</td>\n",
              "      <td>36199.406689</td>\n",
              "      <td>1.232669e+06</td>\n",
              "    </tr>\n",
              "    <tr>\n",
              "      <th>75%</th>\n",
              "      <td>75783.338666</td>\n",
              "      <td>6.650808</td>\n",
              "      <td>7.665871</td>\n",
              "      <td>4.490000</td>\n",
              "      <td>42861.290769</td>\n",
              "      <td>1.471210e+06</td>\n",
              "    </tr>\n",
              "    <tr>\n",
              "      <th>max</th>\n",
              "      <td>107701.748378</td>\n",
              "      <td>9.519088</td>\n",
              "      <td>10.759588</td>\n",
              "      <td>6.500000</td>\n",
              "      <td>69621.713378</td>\n",
              "      <td>2.469066e+06</td>\n",
              "    </tr>\n",
              "  </tbody>\n",
              "</table>\n",
              "</div>\n",
              "    <div class=\"colab-df-buttons\">\n",
              "\n",
              "  <div class=\"colab-df-container\">\n",
              "    <button class=\"colab-df-convert\" onclick=\"convertToInteractive('df-989d8b6f-0ffa-4919-8357-df892b93abbc')\"\n",
              "            title=\"Convert this dataframe to an interactive table.\"\n",
              "            style=\"display:none;\">\n",
              "\n",
              "  <svg xmlns=\"http://www.w3.org/2000/svg\" height=\"24px\" viewBox=\"0 -960 960 960\">\n",
              "    <path d=\"M120-120v-720h720v720H120Zm60-500h600v-160H180v160Zm220 220h160v-160H400v160Zm0 220h160v-160H400v160ZM180-400h160v-160H180v160Zm440 0h160v-160H620v160ZM180-180h160v-160H180v160Zm440 0h160v-160H620v160Z\"/>\n",
              "  </svg>\n",
              "    </button>\n",
              "\n",
              "  <style>\n",
              "    .colab-df-container {\n",
              "      display:flex;\n",
              "      gap: 12px;\n",
              "    }\n",
              "\n",
              "    .colab-df-convert {\n",
              "      background-color: #E8F0FE;\n",
              "      border: none;\n",
              "      border-radius: 50%;\n",
              "      cursor: pointer;\n",
              "      display: none;\n",
              "      fill: #1967D2;\n",
              "      height: 32px;\n",
              "      padding: 0 0 0 0;\n",
              "      width: 32px;\n",
              "    }\n",
              "\n",
              "    .colab-df-convert:hover {\n",
              "      background-color: #E2EBFA;\n",
              "      box-shadow: 0px 1px 2px rgba(60, 64, 67, 0.3), 0px 1px 3px 1px rgba(60, 64, 67, 0.15);\n",
              "      fill: #174EA6;\n",
              "    }\n",
              "\n",
              "    .colab-df-buttons div {\n",
              "      margin-bottom: 4px;\n",
              "    }\n",
              "\n",
              "    [theme=dark] .colab-df-convert {\n",
              "      background-color: #3B4455;\n",
              "      fill: #D2E3FC;\n",
              "    }\n",
              "\n",
              "    [theme=dark] .colab-df-convert:hover {\n",
              "      background-color: #434B5C;\n",
              "      box-shadow: 0px 1px 3px 1px rgba(0, 0, 0, 0.15);\n",
              "      filter: drop-shadow(0px 1px 2px rgba(0, 0, 0, 0.3));\n",
              "      fill: #FFFFFF;\n",
              "    }\n",
              "  </style>\n",
              "\n",
              "    <script>\n",
              "      const buttonEl =\n",
              "        document.querySelector('#df-989d8b6f-0ffa-4919-8357-df892b93abbc button.colab-df-convert');\n",
              "      buttonEl.style.display =\n",
              "        google.colab.kernel.accessAllowed ? 'block' : 'none';\n",
              "\n",
              "      async function convertToInteractive(key) {\n",
              "        const element = document.querySelector('#df-989d8b6f-0ffa-4919-8357-df892b93abbc');\n",
              "        const dataTable =\n",
              "          await google.colab.kernel.invokeFunction('convertToInteractive',\n",
              "                                                    [key], {});\n",
              "        if (!dataTable) return;\n",
              "\n",
              "        const docLinkHtml = 'Like what you see? Visit the ' +\n",
              "          '<a target=\"_blank\" href=https://colab.research.google.com/notebooks/data_table.ipynb>data table notebook</a>'\n",
              "          + ' to learn more about interactive tables.';\n",
              "        element.innerHTML = '';\n",
              "        dataTable['output_type'] = 'display_data';\n",
              "        await google.colab.output.renderOutput(dataTable, element);\n",
              "        const docLink = document.createElement('div');\n",
              "        docLink.innerHTML = docLinkHtml;\n",
              "        element.appendChild(docLink);\n",
              "      }\n",
              "    </script>\n",
              "  </div>\n",
              "\n",
              "\n",
              "<div id=\"df-63b339a7-d9c3-4588-9420-96b279edf051\">\n",
              "  <button class=\"colab-df-quickchart\" onclick=\"quickchart('df-63b339a7-d9c3-4588-9420-96b279edf051')\"\n",
              "            title=\"Suggest charts\"\n",
              "            style=\"display:none;\">\n",
              "\n",
              "<svg xmlns=\"http://www.w3.org/2000/svg\" height=\"24px\"viewBox=\"0 0 24 24\"\n",
              "     width=\"24px\">\n",
              "    <g>\n",
              "        <path d=\"M19 3H5c-1.1 0-2 .9-2 2v14c0 1.1.9 2 2 2h14c1.1 0 2-.9 2-2V5c0-1.1-.9-2-2-2zM9 17H7v-7h2v7zm4 0h-2V7h2v10zm4 0h-2v-4h2v4z\"/>\n",
              "    </g>\n",
              "</svg>\n",
              "  </button>\n",
              "\n",
              "<style>\n",
              "  .colab-df-quickchart {\n",
              "      --bg-color: #E8F0FE;\n",
              "      --fill-color: #1967D2;\n",
              "      --hover-bg-color: #E2EBFA;\n",
              "      --hover-fill-color: #174EA6;\n",
              "      --disabled-fill-color: #AAA;\n",
              "      --disabled-bg-color: #DDD;\n",
              "  }\n",
              "\n",
              "  [theme=dark] .colab-df-quickchart {\n",
              "      --bg-color: #3B4455;\n",
              "      --fill-color: #D2E3FC;\n",
              "      --hover-bg-color: #434B5C;\n",
              "      --hover-fill-color: #FFFFFF;\n",
              "      --disabled-bg-color: #3B4455;\n",
              "      --disabled-fill-color: #666;\n",
              "  }\n",
              "\n",
              "  .colab-df-quickchart {\n",
              "    background-color: var(--bg-color);\n",
              "    border: none;\n",
              "    border-radius: 50%;\n",
              "    cursor: pointer;\n",
              "    display: none;\n",
              "    fill: var(--fill-color);\n",
              "    height: 32px;\n",
              "    padding: 0;\n",
              "    width: 32px;\n",
              "  }\n",
              "\n",
              "  .colab-df-quickchart:hover {\n",
              "    background-color: var(--hover-bg-color);\n",
              "    box-shadow: 0 1px 2px rgba(60, 64, 67, 0.3), 0 1px 3px 1px rgba(60, 64, 67, 0.15);\n",
              "    fill: var(--button-hover-fill-color);\n",
              "  }\n",
              "\n",
              "  .colab-df-quickchart-complete:disabled,\n",
              "  .colab-df-quickchart-complete:disabled:hover {\n",
              "    background-color: var(--disabled-bg-color);\n",
              "    fill: var(--disabled-fill-color);\n",
              "    box-shadow: none;\n",
              "  }\n",
              "\n",
              "  .colab-df-spinner {\n",
              "    border: 2px solid var(--fill-color);\n",
              "    border-color: transparent;\n",
              "    border-bottom-color: var(--fill-color);\n",
              "    animation:\n",
              "      spin 1s steps(1) infinite;\n",
              "  }\n",
              "\n",
              "  @keyframes spin {\n",
              "    0% {\n",
              "      border-color: transparent;\n",
              "      border-bottom-color: var(--fill-color);\n",
              "      border-left-color: var(--fill-color);\n",
              "    }\n",
              "    20% {\n",
              "      border-color: transparent;\n",
              "      border-left-color: var(--fill-color);\n",
              "      border-top-color: var(--fill-color);\n",
              "    }\n",
              "    30% {\n",
              "      border-color: transparent;\n",
              "      border-left-color: var(--fill-color);\n",
              "      border-top-color: var(--fill-color);\n",
              "      border-right-color: var(--fill-color);\n",
              "    }\n",
              "    40% {\n",
              "      border-color: transparent;\n",
              "      border-right-color: var(--fill-color);\n",
              "      border-top-color: var(--fill-color);\n",
              "    }\n",
              "    60% {\n",
              "      border-color: transparent;\n",
              "      border-right-color: var(--fill-color);\n",
              "    }\n",
              "    80% {\n",
              "      border-color: transparent;\n",
              "      border-right-color: var(--fill-color);\n",
              "      border-bottom-color: var(--fill-color);\n",
              "    }\n",
              "    90% {\n",
              "      border-color: transparent;\n",
              "      border-bottom-color: var(--fill-color);\n",
              "    }\n",
              "  }\n",
              "</style>\n",
              "\n",
              "  <script>\n",
              "    async function quickchart(key) {\n",
              "      const quickchartButtonEl =\n",
              "        document.querySelector('#' + key + ' button');\n",
              "      quickchartButtonEl.disabled = true;  // To prevent multiple clicks.\n",
              "      quickchartButtonEl.classList.add('colab-df-spinner');\n",
              "      try {\n",
              "        const charts = await google.colab.kernel.invokeFunction(\n",
              "            'suggestCharts', [key], {});\n",
              "      } catch (error) {\n",
              "        console.error('Error during call to suggestCharts:', error);\n",
              "      }\n",
              "      quickchartButtonEl.classList.remove('colab-df-spinner');\n",
              "      quickchartButtonEl.classList.add('colab-df-quickchart-complete');\n",
              "    }\n",
              "    (() => {\n",
              "      let quickchartButtonEl =\n",
              "        document.querySelector('#df-63b339a7-d9c3-4588-9420-96b279edf051 button');\n",
              "      quickchartButtonEl.style.display =\n",
              "        google.colab.kernel.accessAllowed ? 'block' : 'none';\n",
              "    })();\n",
              "  </script>\n",
              "</div>\n",
              "\n",
              "    </div>\n",
              "  </div>\n"
            ],
            "application/vnd.google.colaboratory.intrinsic+json": {
              "type": "dataframe",
              "summary": "{\n  \"name\": \"data\",\n  \"rows\": 8,\n  \"fields\": [\n    {\n      \"column\": \"Avg. Area Income\",\n      \"properties\": {\n        \"dtype\": \"number\",\n        \"std\": 36652.078645440684,\n        \"min\": 5000.0,\n        \"max\": 107701.74837763936,\n        \"num_unique_values\": 8,\n        \"samples\": [\n          68583.10898395974,\n          68804.28640371616,\n          5000.0\n        ],\n        \"semantic_type\": \"\",\n        \"description\": \"\"\n      }\n    },\n    {\n      \"column\": \"Avg. Area House Age\",\n      \"properties\": {\n        \"dtype\": \"number\",\n        \"std\": 1765.8962195665245,\n        \"min\": 0.9914561798281721,\n        \"max\": 5000.0,\n        \"num_unique_values\": 8,\n        \"samples\": [\n          5.977222035280273,\n          5.970428947124802,\n          5000.0\n        ],\n        \"semantic_type\": \"\",\n        \"description\": \"\"\n      }\n    },\n    {\n      \"column\": \"Avg. Area Number of Rooms\",\n      \"properties\": {\n        \"dtype\": \"number\",\n        \"std\": 1765.5997003475702,\n        \"min\": 1.0058332312773866,\n        \"max\": 5000.0,\n        \"num_unique_values\": 8,\n        \"samples\": [\n          6.987791850907944,\n          7.002901987201934,\n          5000.0\n        ],\n        \"semantic_type\": \"\",\n        \"description\": \"\"\n      }\n    },\n    {\n      \"column\": \"Avg. Area Number of Bedrooms\",\n      \"properties\": {\n        \"dtype\": \"number\",\n        \"std\": 1766.4850125109951,\n        \"min\": 1.2341372654846832,\n        \"max\": 5000.0,\n        \"num_unique_values\": 8,\n        \"samples\": [\n          3.9813300000000003,\n          4.05,\n          5000.0\n        ],\n        \"semantic_type\": \"\",\n        \"description\": \"\"\n      }\n    },\n    {\n      \"column\": \"Area Population\",\n      \"properties\": {\n        \"dtype\": \"number\",\n        \"std\": 23038.9102359755,\n        \"min\": 172.61068627290044,\n        \"max\": 69621.7133777904,\n        \"num_unique_values\": 8,\n        \"samples\": [\n          36163.51603857466,\n          36199.406689260555,\n          5000.0\n        ],\n        \"semantic_type\": \"\",\n        \"description\": \"\"\n      }\n    },\n    {\n      \"column\": \"Price\",\n      \"properties\": {\n        \"dtype\": \"number\",\n        \"std\": 833136.4448409891,\n        \"min\": 5000.0,\n        \"max\": 2469065.5941747027,\n        \"num_unique_values\": 8,\n        \"samples\": [\n          1232072.654142357,\n          1232669.3779657914,\n          5000.0\n        ],\n        \"semantic_type\": \"\",\n        \"description\": \"\"\n      }\n    }\n  ]\n}"
            }
          },
          "metadata": {},
          "execution_count": 4
        }
      ]
    },
    {
      "cell_type": "code",
      "source": [
        "data.isnull().sum()"
      ],
      "metadata": {
        "colab": {
          "base_uri": "https://localhost:8080/"
        },
        "id": "GIE4n-l91XWv",
        "outputId": "f65c202f-cbcc-4164-ca7e-d700b7d239c0"
      },
      "execution_count": null,
      "outputs": [
        {
          "output_type": "execute_result",
          "data": {
            "text/plain": [
              "Avg. Area Income                0\n",
              "Avg. Area House Age             0\n",
              "Avg. Area Number of Rooms       0\n",
              "Avg. Area Number of Bedrooms    0\n",
              "Area Population                 0\n",
              "Price                           0\n",
              "Address                         0\n",
              "dtype: int64"
            ]
          },
          "metadata": {},
          "execution_count": 5
        }
      ]
    },
    {
      "cell_type": "code",
      "source": [
        "plt.figure(figsize=(20,5))\n",
        "# sns.heatmap(data.corr(),annot=True)\n",
        "sns.boxplot(data)"
      ],
      "metadata": {
        "colab": {
          "base_uri": "https://localhost:8080/",
          "height": 425
        },
        "id": "2UbyNhOr1hH4",
        "outputId": "12c80007-bfde-4283-a2ee-a30ef905c212"
      },
      "execution_count": null,
      "outputs": [
        {
          "output_type": "execute_result",
          "data": {
            "text/plain": [
              "<Axes: >"
            ]
          },
          "metadata": {},
          "execution_count": 6
        },
        {
          "output_type": "display_data",
          "data": {
            "text/plain": [
              "<Figure size 2000x500 with 1 Axes>"
            ],
            "image/png": "[encoded data removed]"
          },
          "metadata": {}
        }
      ]
    },
    {
      "cell_type": "code",
      "source": [
        "# for one in data.columns:\n",
        "#   if data[one].dtype != \"object\":\n",
        "#    plt.figure(figsize=(10, 5))\n",
        "#    sns.boxplot(data[one])"
      ],
      "metadata": {
        "id": "mYAZ3M1b3fMl"
      },
      "execution_count": null,
      "outputs": []
    },
    {
      "cell_type": "code",
      "source": [
        "data.drop(\"Address\", inplace=True, axis=1)"
      ],
      "metadata": {
        "id": "QNhm8Ll38n6B"
      },
      "execution_count": null,
      "outputs": []
    },
    {
      "cell_type": "markdown",
      "source": [
        "\n",
        "\n",
        "---\n",
        "\n",
        "## Let's prepare the Model for Traning :)"
      ],
      "metadata": {
        "id": "JsyHBeec65Bz"
      }
    },
    {
      "cell_type": "code",
      "source": [],
      "metadata": {
        "id": "ul1F7KwA8nMD"
      },
      "execution_count": null,
      "outputs": []
    },
    {
      "cell_type": "code",
      "source": [
        "# Data Splitting\n",
        "\n",
        "x = data.drop(\"Price\", axis=1)\n",
        "y = data[\"Price\"]"
      ],
      "metadata": {
        "id": "60iYvCbW8OsL"
      },
      "execution_count": null,
      "outputs": []
    },
    {
      "cell_type": "code",
      "source": [
        "from sklearn.model_selection import train_test_split\n",
        "x_train, x_test, y_train, y_test = train_test_split(x, y, test_size=0.2, random_state=101)"
      ],
      "metadata": {
        "id": "7BL9s4f-9IJu"
      },
      "execution_count": null,
      "outputs": []
    },
    {
      "cell_type": "code",
      "source": [
        "from sklearn.linear_model import LinearRegression\n",
        "\n",
        "line_reg = LinearRegression()\n",
        "\n",
        "line_reg.fit(x_train, y_train)\n"
      ],
      "metadata": {
        "colab": {
          "base_uri": "https://localhost:8080/",
          "height": 74
        },
        "id": "UKn26xoo4mAX",
        "outputId": "06340cc2-9dd8-4a38-a8f4-fb15f378a4de"
      },
      "execution_count": null,
      "outputs": [
        {
          "output_type": "execute_result",
          "data": {
            "text/plain": [
              "LinearRegression()"
            ],
            "text/html": [
              "<style>#sk-container-id-1 {color: black;background-color: white;}#sk-container-id-1 pre{padding: 0;}#sk-container-id-1 div.sk-toggleable {background-color: white;}#sk-container-id-1 label.sk-toggleable__label {cursor: pointer;display: block;width: 100%;margin-bottom: 0;padding: 0.3em;box-sizing: border-box;text-align: center;}#sk-container-id-1 label.sk-toggleable__label-arrow:before {content: \"▸\";float: left;margin-right: 0.25em;color: #696969;}#sk-container-id-1 label.sk-toggleable__label-arrow:hover:before {color: black;}#sk-container-id-1 div.sk-estimator:hover label.sk-toggleable__label-arrow:before {color: black;}#sk-container-id-1 div.sk-toggleable__content {max-height: 0;max-width: 0;overflow: hidden;text-align: left;background-color: #f0f8ff;}#sk-container-id-1 div.sk-toggleable__content pre {margin: 0.2em;color: black;border-radius: 0.25em;background-color: #f0f8ff;}#sk-container-id-1 input.sk-toggleable__control:checked~div.sk-toggleable__content {max-height: 200px;max-width: 100%;overflow: auto;}#sk-container-id-1 input.sk-toggleable__control:checked~label.sk-toggleable__label-arrow:before {content: \"▾\";}#sk-container-id-1 div.sk-estimator input.sk-toggleable__control:checked~label.sk-toggleable__label {background-color: #d4ebff;}#sk-container-id-1 div.sk-label input.sk-toggleable__control:checked~label.sk-toggleable__label {background-color: #d4ebff;}#sk-container-id-1 input.sk-hidden--visually {border: 0;clip: rect(1px 1px 1px 1px);clip: rect(1px, 1px, 1px, 1px);height: 1px;margin: -1px;overflow: hidden;padding: 0;position: absolute;width: 1px;}#sk-container-id-1 div.sk-estimator {font-family: monospace;background-color: #f0f8ff;border: 1px dotted black;border-radius: 0.25em;box-sizing: border-box;margin-bottom: 0.5em;}#sk-container-id-1 div.sk-estimator:hover {background-color: #d4ebff;}#sk-container-id-1 div.sk-parallel-item::after {content: \"\";width: 100%;border-bottom: 1px solid gray;flex-grow: 1;}#sk-container-id-1 div.sk-label:hover label.sk-toggleable__label {background-color: #d4ebff;}#sk-container-id-1 div.sk-serial::before {content: \"\";position: absolute;border-left: 1px solid gray;box-sizing: border-box;top: 0;bottom: 0;left: 50%;z-index: 0;}#sk-container-id-1 div.sk-serial {display: flex;flex-direction: column;align-items: center;background-color: white;padding-right: 0.2em;padding-left: 0.2em;position: relative;}#sk-container-id-1 div.sk-item {position: relative;z-index: 1;}#sk-container-id-1 div.sk-parallel {display: flex;align-items: stretch;justify-content: center;background-color: white;position: relative;}#sk-container-id-1 div.sk-item::before, #sk-container-id-1 div.sk-parallel-item::before {content: \"\";position: absolute;border-left: 1px solid gray;box-sizing: border-box;top: 0;bottom: 0;left: 50%;z-index: -1;}#sk-container-id-1 div.sk-parallel-item {display: flex;flex-direction: column;z-index: 1;position: relative;background-color: white;}#sk-container-id-1 div.sk-parallel-item:first-child::after {align-self: flex-end;width: 50%;}#sk-container-id-1 div.sk-parallel-item:last-child::after {align-self: flex-start;width: 50%;}#sk-container-id-1 div.sk-parallel-item:only-child::after {width: 0;}#sk-container-id-1 div.sk-dashed-wrapped {border: 1px dashed gray;margin: 0 0.4em 0.5em 0.4em;box-sizing: border-box;padding-bottom: 0.4em;background-color: white;}#sk-container-id-1 div.sk-label label {font-family: monospace;font-weight: bold;display: inline-block;line-height: 1.2em;}#sk-container-id-1 div.sk-label-container {text-align: center;}#sk-container-id-1 div.sk-container {/* jupyter's `normalize.less` sets `[hidden] { display: none; }` but bootstrap.min.css set `[hidden] { display: none !important; }` so we also need the `!important` here to be able to override the default hidden behavior on the sphinx rendered scikit-learn.org. See: https://github.com/scikit-learn/scikit-learn/issues/21755 */display: inline-block !important;position: relative;}#sk-container-id-1 div.sk-text-repr-fallback {display: none;}</style><div id=\"sk-container-id-1\" class=\"sk-top-container\"><div class=\"sk-text-repr-fallback\"><pre>LinearRegression()</pre><b>In a Jupyter environment, please rerun this cell to show the HTML representation or trust the notebook. <br />On GitHub, the HTML representation is unable to render, please try loading this page with nbviewer.org.</b></div><div class=\"sk-container\" hidden><div class=\"sk-item\"><div class=\"sk-estimator sk-toggleable\"><input class=\"sk-toggleable__control sk-hidden--visually\" id=\"sk-estimator-id-1\" type=\"checkbox\" checked><label for=\"sk-estimator-id-1\" class=\"sk-toggleable__label sk-toggleable__label-arrow\">LinearRegression</label><div class=\"sk-toggleable__content\"><pre>LinearRegression()</pre></div></div></div></div></div>"
            ]
          },
          "metadata": {},
          "execution_count": 11
        }
      ]
    },
    {
      "cell_type": "code",
      "source": [
        "# Let's Predict the values\n",
        "pred_output = line_reg.predict(x_test)\n",
        "pred_output"
      ],
      "metadata": {
        "colab": {
          "base_uri": "https://localhost:8080/"
        },
        "collapsed": true,
        "id": "ShMMdJ-492aS",
        "outputId": "f001af1d-19b3-4ba9-aae3-77d41101d7be"
      },
      "execution_count": null,
      "outputs": [
        {
          "output_type": "execute_result",
          "data": {
            "text/plain": [
              "array([1257919.729097  ,  822112.41884197, 1740669.05865495,\n",
              "        972452.12917494,  993422.26329315,  644126.07414456,\n",
              "       1073911.79101682,  856584.00194133, 1445318.25518365,\n",
              "       1204342.19071175, 1455792.46212863, 1298556.65696433,\n",
              "       1735924.33836095, 1336925.7757779 , 1387637.43231922,\n",
              "       1222403.77772069,  613786.28691982,  963933.54416267,\n",
              "       1221197.33050139, 1198071.57563599,  505861.89531673,\n",
              "       1769106.54723353, 1853881.16842511, 1200369.50507868,\n",
              "       1065129.1285072 , 1812033.73067313, 1768686.47091262,\n",
              "       1439920.83814323, 1387251.99649376, 1541178.39224181,\n",
              "        726418.80504278, 1754497.60908688, 1462185.72653198,\n",
              "       1025600.16081145, 1284926.8685155 ,  917454.59590853,\n",
              "       1187046.94956865,  999330.91117488, 1329536.63409595,\n",
              "        782191.60441437, 1393272.03053841,  578216.88394851,\n",
              "        822643.37151048, 1895533.11413226, 1672019.8489204 ,\n",
              "        966926.45434583, 1129674.55638146,  792797.75914663,\n",
              "       1161057.18412143, 1472396.71417164, 1457656.70412313,\n",
              "       1162939.334229  , 1099453.68110992, 1358107.44619413,\n",
              "        841103.70380593,  986322.30573616, 1123323.53002134,\n",
              "       1253538.63235181, 1428279.66304074,  499103.20906177,\n",
              "       1462817.08350573, 1108744.36856804,  660588.51700889,\n",
              "       1247031.59801316, 1342744.55515753, 1357505.99080656,\n",
              "        818858.41205465, 1487168.7491193 , 1396247.6559861 ,\n",
              "        885078.37963981,  857545.83060842, 1212816.45100842,\n",
              "       1101069.27148301, 1834591.82895367,  924022.96601965,\n",
              "        855346.8084446 ,  822070.44924512, 1397829.2123058 ,\n",
              "        775933.8643152 , 1638075.3740563 , 1079223.32119183,\n",
              "       1355542.10150295, 1321447.90227178, 1198773.49593884,\n",
              "        757960.00844907,  649708.59768215, 1058567.42526768,\n",
              "       1384318.81434923, 1030349.32788272, 1297790.45656826,\n",
              "        550588.21509211, 1706268.87594955,  840478.99085965,\n",
              "       1627285.73221856, 1051446.08561746,  947163.26591115,\n",
              "       1187965.14618703, 1556566.4890801 ,  900538.67981881,\n",
              "        995246.18312522, 1221693.84495786, 1592557.49052096,\n",
              "        977671.97252197, 1428171.2008612 , 1015834.61615161,\n",
              "       1448110.17850637,  877865.27098758,  831194.85890213,\n",
              "       1022735.97232828, 1844169.94971864, 1925418.90852406,\n",
              "       1405526.2235022 , 1042730.58532361, 1056912.41311355,\n",
              "       1440167.01805755, 1029466.31854915, 1188198.60368704,\n",
              "       1407875.62844789, 1266581.80632292, 1562660.40296843,\n",
              "        767006.37537442, 1394809.1474023 , 2083454.34315169,\n",
              "       1468363.78038259, 1326116.1692144 , 1314342.13126912,\n",
              "        920802.61547049,  780407.5175075 , 1678929.25641696,\n",
              "       1173317.53334908,  863938.9328098 ,  831496.26628413,\n",
              "       1552893.33508711,  814232.28006267,  628932.80758343,\n",
              "       1230219.74082397, 1009051.68059211, 1134177.07317901,\n",
              "       1759135.80092859, 1185004.78325484,  589995.18477429,\n",
              "       1392467.64100483, 1381608.25483992, 1726383.2023419 ,\n",
              "       1169019.22666496, 1019912.31831202, 1730374.72274501,\n",
              "       1094660.75381921, 1641553.67845519, 1425844.82715513,\n",
              "       1372526.00488651,  957370.57751744, 1758571.00815348,\n",
              "       1215039.09536614, 1228730.36130002,  949454.36633531,\n",
              "       1240479.54491375, 1259976.01494439, 1275292.19649843,\n",
              "       1125707.61597875, 1513693.61294972, 1559271.12556507,\n",
              "        798393.94186589, 1546245.51538456, 1278490.24324258,\n",
              "       1048130.23839099, 1258823.84340798, 1647111.76109967,\n",
              "       1110683.6841632 ,  474642.39148037, 1647293.82576375,\n",
              "       1314423.54403662, 1667425.25325174, 1673875.47188459,\n",
              "       1691912.07367635, 1809235.34507848, 1557560.5512079 ,\n",
              "        872642.52777441, 1383629.88700025, 1588489.6711868 ,\n",
              "       1394366.66112741, 1126784.35366251, 1453577.32336133,\n",
              "        891270.72483827,  929092.04974816, 1124619.49617814,\n",
              "       1189423.55209047, 1093519.52228545, 1352603.44998751,\n",
              "       1104585.87337573, 1041445.01140685, 1840823.20915414,\n",
              "       1269025.97772559, 1195900.79478608, 1982501.87427729,\n",
              "       1172318.99196702,  664063.71770282, 1516831.57884726,\n",
              "       1208883.11787161, 1122128.21428225, 1735594.69613153,\n",
              "        865742.02321862,  969966.3835537 , 1331559.38783137,\n",
              "        909257.9004405 , 1330515.26483805, 1267149.95713822,\n",
              "        971617.92004141, 1240075.55463063, 1990811.03720136,\n",
              "       1502950.35445567, 1142677.03057216, 1889344.61144088,\n",
              "       1542683.11071993, 1255495.76569687, 1266858.02867607,\n",
              "       1336567.39146565,  250802.81939456, 1128344.25997861,\n",
              "       1251829.92396526, 1365458.36530684, 1731381.40176637,\n",
              "       1048930.57357235, 1054510.18009109, 1426952.23586587,\n",
              "        930090.24788653,  866136.48384222, 1648292.85950441,\n",
              "       1183126.48975361, 1342085.93169395,  818757.06161575,\n",
              "       1563303.58722225, 1348611.35759588, 1815034.40114857,\n",
              "       1260025.43364773, 1220361.24580727,  648792.09698542,\n",
              "       1331385.0939024 ,  393964.58716725, 1283083.6608295 ,\n",
              "       1354368.39181222, 1594675.47475904, 1019367.99761248,\n",
              "       1154895.92538237, 1477596.50350931, 1606153.12418652,\n",
              "       1336855.88411859, 1787639.82065234, 1798694.76607084,\n",
              "        945560.93733933, 1240280.37820927, 1131796.8979187 ,\n",
              "       1506418.6409881 , 1172398.896648  , 1575031.41932382,\n",
              "       1620022.75906772,  328146.62358475,  423405.29747082,\n",
              "        808473.31516009, 1808607.71767717, 1161437.6335028 ,\n",
              "       1290105.28066273,  488495.93102175, 1355523.83914854,\n",
              "       1791747.74473713,  530190.7597526 ,  895829.94850127,\n",
              "       1234872.22552441, 1205813.61309886, 1142869.05130465,\n",
              "       1544709.4939468 , 1397728.97367436,  809314.75267993,\n",
              "        916515.5408125 , 1717159.66171621, 1071915.80625235,\n",
              "       1265594.03975673, 1563516.24575786, 1150899.12933388,\n",
              "       1087806.80720891, 1723353.35034214, 1401272.11235719,\n",
              "       1097379.04885339, 1642119.10859682, 1062758.32253009,\n",
              "       1729910.73155036, 1038760.9997124 , 1360748.10902365,\n",
              "       1345562.75881699, 1331901.19961839, 1002669.41036228,\n",
              "       1344417.49481131, 1130066.69205505, 1559820.77379468,\n",
              "       1706430.10202814, 2038885.49719396,  833086.74048143,\n",
              "       1045214.81139648, 1134207.36502681,  935557.862612  ,\n",
              "       1372030.49915441,  815056.03547679, 1247496.29555842,\n",
              "       1363128.23823988, 1496484.74422308, 2229545.19220177,\n",
              "        777432.21374589, 1191745.78488591, 1096163.09011392,\n",
              "       1272909.82942116, 1625931.48842005,  918993.98721316,\n",
              "       1006465.36876058, 1594755.7658865 ,  846284.31587657,\n",
              "        849305.27099749,  570666.9766973 , 1801007.09806189,\n",
              "       1485857.7010122 , 1686344.68445166, 1231934.75994846,\n",
              "       1356156.40905842, 1097791.78972486, 1193394.13367233,\n",
              "       1126904.82603302, 1084596.34251133, 1044677.128424  ,\n",
              "       2012287.09940268,  749703.83822341, 1125570.87522046,\n",
              "       1353902.80662881, 1582337.54477098, 1132363.84344702,\n",
              "       1127593.01594927, 1558175.09336577, 1470124.64995527,\n",
              "       1170136.96370427, 1057993.19774258, 1727175.42480496,\n",
              "       1099174.32885364, 1878927.95333323,  953041.98641305,\n",
              "        220148.95728994, 1469299.4012682 , 1351934.36007778,\n",
              "       1965515.79787762,  471073.53784835, 1078285.07736102,\n",
              "       1398197.71162202, 1034751.6214149 ,  792832.03083203,\n",
              "       1446399.20930511, 1103988.74382329, 1691306.84800526,\n",
              "       1107502.12092221, 1078162.52791708, 1708451.35611259,\n",
              "       1134799.50112101,  872219.41731097,  871276.6337552 ,\n",
              "        566610.74806608, 1539564.17473228, 1215068.56129604,\n",
              "       1750435.57551414,  780818.77892039, 1005278.8908274 ,\n",
              "       1699864.56225465,  613683.19049426, 1238072.22784607,\n",
              "       1590149.31057521, 1332467.65674073, 1110842.05743917,\n",
              "       1279563.18720233,  894290.71453523,  812546.8148645 ,\n",
              "       1551251.04056016, 1359009.91049348, 1253121.43582776,\n",
              "       1229760.03037545, 1499246.99540704,  919454.72722129,\n",
              "       1331679.12723297, 1089870.75329734,  958885.84241772,\n",
              "       1064647.10625584,  941059.19510286,  968260.24774319,\n",
              "       1046073.30643464, 1645969.84910694, 1166194.65703568,\n",
              "       1312898.64523883, 1624075.1183887 , 1122680.60708451,\n",
              "       1293518.53738823, 1362243.66193653, 1044593.86406878,\n",
              "       1045450.3409926 , 1446228.97176106, 1314918.61125719,\n",
              "       1054569.81836383, 1953570.35858134, 1514052.36511509,\n",
              "       1204362.0007214 , 1982821.65391243,  680652.28599645,\n",
              "       1723833.1028912 , 1461941.72132161, 1413218.72506781,\n",
              "       1074165.48822053, 1048173.12975262, 1205533.14320529,\n",
              "        997083.01429422, 1087634.17215582,  799234.75302648,\n",
              "        972455.40342001,  801856.53463554,  874552.70140583,\n",
              "       1379123.09013505, 1126134.74113496, 1298148.81659145,\n",
              "       1428161.98519949, 1355123.02342546, 1553045.32879594,\n",
              "       1870468.89055136,  941675.18754439,  710776.75163677,\n",
              "       1590857.45772608, 1458290.81462446,  666201.26424408,\n",
              "       1740887.20683925, 1311991.94997945, 1798637.13769295,\n",
              "        833944.9042026 , 1302260.14903338, 1587128.52619347,\n",
              "       1317721.78646457, 1668052.02029737,  936367.43448359,\n",
              "       1700849.45729715, 1165066.71552696, 1555174.98797143,\n",
              "       1203157.19294374, 2182009.99760784, 1050703.04898764,\n",
              "       1085255.43002699,  687418.2413657 , 1225471.31016553,\n",
              "       1236416.18898843, 1234673.47753594,  930443.0490492 ,\n",
              "       1501992.00715114, 1273737.55032504,  950041.90286064,\n",
              "       1222288.62260244, 1196391.39810298, 1126494.323256  ,\n",
              "       1430405.24832769,  654124.8831567 ,  895637.24071162,\n",
              "        292231.65792553, 1320679.35025207,  805569.98785658,\n",
              "       1233937.60765139, 1104581.67567423,  908260.05005094,\n",
              "       1127651.17125846, 1746143.30165373,  550595.13591362,\n",
              "        887562.56379595, 1318241.03673407, 1104224.94782251,\n",
              "       1268614.59782285,  773344.86318576, 1279225.19247096,\n",
              "       1409430.68554383, 1438394.94609839, 1242233.55899958,\n",
              "        976371.07650901,  961172.77960729, 1405311.34334233,\n",
              "       1231311.47373034, 1416589.57175405, 1039865.66760668,\n",
              "        405050.76035601, 1831567.93596   ,  994168.26437392,\n",
              "       1601760.17451136, 1894119.37065231,  838793.55050794,\n",
              "        942753.23147991, 2020611.40750524,  892650.27370657,\n",
              "       1103392.89712649, 1856735.83501372, 1374941.34714029,\n",
              "       1347030.9418317 ,  839567.56053583, 1868960.81804402,\n",
              "       1046950.66016825,  837784.75799152, 1243870.52458918,\n",
              "        945414.8784892 , 1003374.52464082, 1290578.27919801,\n",
              "       1173331.32430923, 1522296.87016011, 1104182.96400372,\n",
              "       1284736.34065318,  666922.2209623 ,  673548.38060283,\n",
              "        839842.87494546, 1485091.87949437, 1758926.1001963 ,\n",
              "        616983.40087472, 1267547.14699049,  899323.40602058,\n",
              "       1158839.68496783,  754436.13286385, 1150948.88850265,\n",
              "       1255846.0700254 ,  771868.76930345, 1323417.05382825,\n",
              "        929827.54051279, 1067842.89483073, 1110264.9618046 ,\n",
              "       1540579.01469861,  806070.2039711 , 1375018.45965384,\n",
              "       1583012.8637186 , 1215804.72853409, 1846871.22490026,\n",
              "       1719674.14920754, 1072371.6108295 , 1261854.33505624,\n",
              "       1801461.10335271, 1289458.68342156, 1371299.08117235,\n",
              "        983760.56441569, 1324124.02939088, 1051323.27262374,\n",
              "       1007052.9443188 , 1401321.32709744, 1571085.17286577,\n",
              "       1229001.87119959, 1283186.61191567, 1288554.56408168,\n",
              "       1415412.18859016, 1103447.66939766, 1650111.15596409,\n",
              "       1351906.62870447,  806922.81052761, 1101879.75531369,\n",
              "       1087454.15325061, 1407522.12276368, 1458792.37938237,\n",
              "       1472979.40100164, 1430788.15060835, 1233623.36217147,\n",
              "       1870533.17388317, 1257158.33660788, 1600913.12822158,\n",
              "       1356762.37639189, 1319817.63503686, 1236051.9108198 ,\n",
              "       1268181.38595477, 1129570.75163033, 1705669.67477113,\n",
              "       1411102.91700132, 2273540.41800102, 1207547.00425412,\n",
              "        899781.3847036 , 1254140.99658748, 1542438.22564716,\n",
              "        657936.46719116, 1385268.91742449,  878970.16758734,\n",
              "       1109196.43128029, 1353391.17019487, 1696115.98345093,\n",
              "       1413282.72684313, 1827087.79734247, 1120215.62692099,\n",
              "       1356976.31422317, 1223780.10870815, 1248092.82209771,\n",
              "       1769843.13529577,  949225.39612295, 1477952.65052356,\n",
              "       1255282.59862256,  426003.13583316,  707530.77134158,\n",
              "       1696903.01183506, 1163050.51049259, 1323411.5033268 ,\n",
              "       2075338.18777907, 1574543.41531418, 1817164.81632782,\n",
              "       1027880.42644512,  984572.34397046, 1347495.61247839,\n",
              "       1405652.70637065, 1378100.57654898, 1725502.2933008 ,\n",
              "       1380099.65837807, 1577843.39344023, 1624768.07507459,\n",
              "        620250.96994802,  678847.62293504, 1255463.63367927,\n",
              "       1493178.26766321, 1251118.57109733, 1531225.73325   ,\n",
              "       1038742.17013484,  158813.64470869,  670803.74477209,\n",
              "       1358866.25754787, 1116231.80776672,  825567.42192957,\n",
              "       1205988.87074548, 1163767.67010631, 1795770.41249053,\n",
              "       1037902.14643255, 1066195.46094948, 1082294.65493931,\n",
              "       1435062.76289096, 1454466.64232999, 1330792.13240183,\n",
              "       1690582.50968939, 1069251.9487768 ,  808110.53863471,\n",
              "        625553.6464463 ,  919490.05366638, 1353662.2546001 ,\n",
              "       1184444.42780225, 1539245.25567221, 1208513.48652763,\n",
              "        837956.30959035, 1659341.88709898, 1392103.22796819,\n",
              "       1589783.52479679, 1262963.45793841, 1511554.88048253,\n",
              "        883619.90417901, 1022564.2478265 , 2053151.68156221,\n",
              "       1324454.22123298, 1339389.73837403,  916369.74594413,\n",
              "       1080360.83870116, 1124354.20250161, 1225725.51762075,\n",
              "       1036709.01383128, 1234858.0860976 , 1055632.34784629,\n",
              "       1517840.47571422, 1327306.74681115, 1172875.46526553,\n",
              "        663510.22702194,  994880.08825415,  659636.17716454,\n",
              "       1215833.3865498 , 1289298.54249165, 1049066.68537325,\n",
              "       1002058.65544564, 1479008.16442341, 1133499.87344621,\n",
              "       1343292.37992994, 1240281.28609788, 1875671.59202051,\n",
              "       1384525.66937356,  900349.97821838, 1491477.28606211,\n",
              "        291738.12188895, 1146285.9434131 , 1367218.08956031,\n",
              "       1289910.89226899, 1291184.80884029, 1824408.57177525,\n",
              "       1491241.2227773 , 1389476.45607064, 1321293.64559164,\n",
              "       1284967.15702986,  846503.99338371, 1311564.60147658,\n",
              "       1451747.22228778, 1884449.22275646, 1289541.93048528,\n",
              "        794205.10442291, 1192680.65890835, 1126098.68560079,\n",
              "       1509907.60069687, 1913607.45329345,  829309.12969399,\n",
              "        595859.28942419, 1582813.3055729 , 1035614.81747863,\n",
              "       1456522.8591344 ,  925110.32853942, 1095178.12785018,\n",
              "       1245801.01775937, 1464082.99859734, 1554146.7720129 ,\n",
              "        965107.42154312, 1356373.22425334, 1673565.88692989,\n",
              "       1158338.71531108, 1281278.86098632,  787926.23885863,\n",
              "       1408326.67504604, 1269972.82557244,  440821.15599144,\n",
              "       1191806.26503558,  856260.95454576, 1026274.59180668,\n",
              "        915461.63191209, 1813981.92931032, 1260397.95598962,\n",
              "       1238979.10170183, 1387410.70388008,  804543.00233416,\n",
              "       1184273.71677171,  895553.53733314,  666753.31379016,\n",
              "        494113.56401944, 1433820.74136242,  920519.49342551,\n",
              "       1552699.63507721, 1314958.29825851, 1408137.11007595,\n",
              "       1105205.03868602, 1225374.9668051 , 1555967.60398297,\n",
              "        764356.87177392, 1209380.67918476, 1307446.07617411,\n",
              "       1156888.49949617, 1477617.77388599, 1570107.70957062,\n",
              "        888604.61517341, 1357192.46882878, 1122559.1071572 ,\n",
              "       1611585.4588343 , 1055610.51785009, 1553877.5957549 ,\n",
              "       1094835.14060777,  925610.91139446, 1443072.82447055,\n",
              "        887534.1374447 ,  456214.10636656, 1667261.18226071,\n",
              "       1271904.57635987, 1182679.40285231, 1649171.89032533,\n",
              "       1423009.73879234, 1484679.82766679, 1033297.25906527,\n",
              "       1292529.61451445, 1145394.95691419,  978455.62438492,\n",
              "       1249136.06087141, 1127225.37341876,  892653.77412716,\n",
              "       1511054.90056614,  873016.64861266,  776802.43645933,\n",
              "       1039353.56986007, 1315157.46162109, 1584289.80977678,\n",
              "        987849.3901897 , 1368365.93287136, 1100557.38102402,\n",
              "       1365918.94448343,  935645.93243935,  324562.71318829,\n",
              "        882741.4389428 , 1276731.80519713, 1198249.83684015,\n",
              "       1049018.28659815,  636396.7037124 , 1449632.62265719,\n",
              "       1383995.417274  , 1298088.72377639, 1540539.70367801,\n",
              "       1493896.99889277, 2343746.35475218, 1872235.70486221,\n",
              "       1439963.7293974 ,  764711.28781408,  800048.08135589,\n",
              "       1913553.84633185,  788172.68793125, 1569240.63551064,\n",
              "       1490513.58848105, 1140794.46978976, 1258627.64263355,\n",
              "        711243.70457631, 1250422.00060581, 1164795.5837308 ,\n",
              "       1719556.05365748, 1144266.71457958, 1494354.61963915,\n",
              "       1483904.82826235, 1384296.65337772, 2120401.56572417,\n",
              "       1436436.14421377, 1360879.56964684,  948664.59412427,\n",
              "       1531287.09616398,  891575.11288498, 1323714.31616798,\n",
              "        743700.71602049, 1226590.09491137,  990596.20736163,\n",
              "       1233992.23613085, 1418498.89087371, 1538321.56247525,\n",
              "        496671.07127634, 1441826.36086485, 1807086.36903315,\n",
              "       1288631.96182057, 1067396.35435427, 1234051.48903035,\n",
              "       1510931.44172461, 1238596.80367902, 1079587.86267727,\n",
              "       1096446.24680233, 1340780.37376665, 1728349.44751938,\n",
              "       1182885.47597413, 1396880.83572716,  848540.01935768,\n",
              "       1118181.60414617, 1450084.64438066, 2095131.06695887,\n",
              "       1432554.8369338 , 1097488.60717876, 1543895.07644596,\n",
              "        589701.16866297, 1632891.15370816, 1462326.34718035,\n",
              "       1251619.86424647, 1215142.06779053,  887591.37509515,\n",
              "       1012091.21646187, 1528992.42455722, 1224454.45215524,\n",
              "       1657636.49616451, 1521618.14196433, 1395801.01427134,\n",
              "       1559056.91331875, 1474320.2159518 , 1266083.75708838,\n",
              "        598008.41675619,  775371.04758185, 1626814.6124692 ,\n",
              "       1184704.01403565, 1378438.85088416, 1999851.71462622,\n",
              "        519552.57086123,  939469.86749699, 1730275.64303092,\n",
              "        787500.26420787, 1266092.51639943, 1334783.7952667 ,\n",
              "       1311501.65110258,  790924.30378168, 1701593.43687928,\n",
              "       1031290.33368498, 1384964.63414445, 1881154.94357247,\n",
              "       1135281.19135162, 1155858.13118106,  821938.51015299,\n",
              "       1392569.03068382, 1828630.6890108 , 1499599.51634769,\n",
              "       1768913.65916671, 2140238.41934353, 1312065.46959489,\n",
              "       1297778.51810689,  954090.00438522, 1164766.05704707,\n",
              "       1762265.19883864, 1272190.22341176, 1337046.93436166,\n",
              "       1734432.16375048, 1241997.26902784, 1545171.11180707,\n",
              "       1410803.40672303,  842583.16037094, 1410431.15875628,\n",
              "        843468.41686778,  963938.51049702, 1359381.61691095,\n",
              "       1086200.9207718 , 1724349.54285902, 1488902.61977152,\n",
              "       1435137.84302696, 2032773.75166519, 1550293.84023723,\n",
              "       1117672.92731721, 1228981.23802782, 1024338.06123588,\n",
              "       1152686.83818179, 1016242.46686364, 1375666.28141413,\n",
              "       1050507.27599655, 1181790.30430949, 1525713.82292139,\n",
              "       1681606.23746155, 1205200.14071651, 1473170.42751321,\n",
              "       1290698.64726292, 1157017.91864223, 1637827.88146071,\n",
              "        591770.21795497, 1900211.94766033, 1461556.14927682,\n",
              "       1338718.53329421, 1365231.39271031,  966650.94972922,\n",
              "       1677602.58059847, 1401419.04822992, 2018052.80955535,\n",
              "       1183950.82427373, 1450992.61747403, 1177265.33458142,\n",
              "        843749.10312845, 1497536.13019635, 1529073.71346475,\n",
              "        558964.87508147, 1261583.2192759 , 1753273.50402693,\n",
              "       1500926.03391635, 1059402.1803657 , 1709352.5707534 ,\n",
              "       1112889.9392433 , 1247534.54359931,  853834.333056  ,\n",
              "        706144.92549257, 1070761.99800867, 1659159.91706308,\n",
              "       1062693.4703681 , 1073545.827184  , 1036990.30062324,\n",
              "       1052078.86312731, 1568784.39882065, 1309154.63561277,\n",
              "        858450.71935711,  988956.07442349, 1396520.63086133,\n",
              "       1769711.99813365, 1283298.07540821, 1515402.04421687,\n",
              "       1256935.59508284, 1320333.17632623, 1505221.09859151,\n",
              "       1110347.82733454,  771327.59692895, 1189663.34806261,\n",
              "       1128591.58671394, 1533502.4634133 , 2187616.08323863,\n",
              "       1177106.83506023, 1490349.58869886, 1410251.5440795 ,\n",
              "       1461916.30494554, 1548793.63000759, 2006242.92462349,\n",
              "       1312408.85291948, 1581878.60451192,  631870.52706524,\n",
              "       2015104.50190244, 1056903.78936517, 1547405.20803519,\n",
              "        875505.84365161, 1826751.87241242, 1174567.82091767,\n",
              "        844395.35409811, 1682709.20725988, 1275129.63095662,\n",
              "       1526887.72765502, 1000089.93827973, 1529941.81041016,\n",
              "        520249.23833003, 1509899.51986588, 1245221.05841925,\n",
              "       1415065.50463792, 1664533.90291694, 1299536.2446968 ,\n",
              "       1475156.35270561, 1587824.19159122, 1087189.99440689,\n",
              "       1242310.46082559,  932496.32274209, 1457832.98702953,\n",
              "       1327013.30958709, 1365624.93545962, 1065213.12237315,\n",
              "       1097280.88986157])"
            ]
          },
          "metadata": {},
          "execution_count": 12
        }
      ]
    },
    {
      "cell_type": "code",
      "source": [
        "both_data = np.column_stack((y_test, pred_output))\n",
        "\n",
        "for original, predicted in both_data[:10]:\n",
        "  print(f\"{round(original, 2)} --- {round(predicted, 2)}\")"
      ],
      "metadata": {
        "colab": {
          "base_uri": "https://localhost:8080/"
        },
        "id": "QPkxL-sdQ1ZD",
        "outputId": "61c76e9f-e9d3-42ee-96f2-c187483633db"
      },
      "execution_count": null,
      "outputs": [
        {
          "output_type": "stream",
          "name": "stdout",
          "text": [
            "1251688.62 --- 1257919.73\n",
            "873048.32 --- 822112.42\n",
            "1696977.66 --- 1740669.06\n",
            "1063964.29 --- 972452.13\n",
            "948788.28 --- 993422.26\n",
            "730043.65 --- 644126.07\n",
            "1166925.15 --- 1073911.79\n",
            "705444.12 --- 856584.0\n",
            "1499988.88 --- 1445318.26\n",
            "1288199.15 --- 1204342.19\n"
          ]
        }
      ]
    },
    {
      "cell_type": "markdown",
      "source": [
        "## Residual Data Analysis"
      ],
      "metadata": {
        "id": "25zyz5C8Z8q2"
      }
    },
    {
      "cell_type": "code",
      "source": [
        "residual = y_test - pred_output\n",
        "residual"
      ],
      "metadata": {
        "colab": {
          "base_uri": "https://localhost:8080/"
        },
        "id": "qtFGFbW4ZOIT",
        "outputId": "64714b6a-fcbd-49c7-b11a-828f2942413a"
      },
      "execution_count": null,
      "outputs": [
        {
          "output_type": "execute_result",
          "data": {
            "text/plain": [
              "1718     -6231.113394\n",
              "2511     50935.900800\n",
              "345     -43691.395822\n",
              "2521     91512.158699\n",
              "54      -44633.987584\n",
              "            ...      \n",
              "3900      8578.803183\n",
              "3753   -104601.289733\n",
              "3582     38997.150646\n",
              "2392   -155113.478325\n",
              "3343     90915.992050\n",
              "Name: Price, Length: 1000, dtype: float64"
            ]
          },
          "metadata": {},
          "execution_count": 14
        }
      ]
    },
    {
      "cell_type": "markdown",
      "source": [
        "## Let's Evaluate the Model"
      ],
      "metadata": {
        "id": "X2ZEBqPQmNLq"
      }
    },
    {
      "cell_type": "markdown",
      "source": [
        "### Linear Regression Model Evaluation Via MSE\n",
        "### MSE (Mean Squared Error)\n",
        "\n",
        "\n"
      ],
      "metadata": {
        "id": "wGu8nRJtmul_"
      }
    },
    {
      "cell_type": "code",
      "source": [
        "from sklearn.metrics import mean_squared_error\n",
        "\n",
        "mse = mean_squared_error(y_test, pred_output)\n",
        "rmse = np.sqrt(mse)\n",
        "\n",
        "print(\"MSE: \", mse)\n",
        "print(\"RMSE: \", rmse)"
      ],
      "metadata": {
        "colab": {
          "base_uri": "https://localhost:8080/"
        },
        "id": "dxO8jMzyaDM0",
        "outputId": "1b120bf2-0320-405c-b9f1-9b0dba73f8c9"
      },
      "execution_count": null,
      "outputs": [
        {
          "output_type": "stream",
          "name": "stdout",
          "text": [
            "MSE:  10100187858.864885\n",
            "RMSE:  100499.69083964829\n"
          ]
        }
      ]
    },
    {
      "cell_type": "markdown",
      "source": [
        "## Decision Tree Regressor"
      ],
      "metadata": {
        "id": "iOms78qUnhI3"
      }
    },
    {
      "cell_type": "code",
      "source": [
        "from sklearn.tree import DecisionTreeRegressor\n",
        "\n",
        "dt_reg = DecisionTreeRegressor()\n",
        "\n",
        "dt_reg.fit(x_train, y_train)\n",
        "\n",
        "dt_pred_output = dt_reg.predict(x_test)\n",
        "\n",
        "dt_mse = mean_squared_error(y_test, dt_pred_output)\n",
        "\n",
        "print(\"Decision Tree Regressor: \", dt_mse)"
      ],
      "metadata": {
        "colab": {
          "base_uri": "https://localhost:8080/"
        },
        "id": "bnbFL3gvnRRm",
        "outputId": "1be07722-4870-4851-fd68-4d7a0b549305"
      },
      "execution_count": null,
      "outputs": [
        {
          "output_type": "stream",
          "name": "stdout",
          "text": [
            "Decision Tree Regressor:  31648891391.57867\n"
          ]
        }
      ]
    },
    {
      "cell_type": "markdown",
      "source": [
        "## Random Forest Regressor"
      ],
      "metadata": {
        "id": "2QBX9NpGoUQx"
      }
    },
    {
      "cell_type": "code",
      "source": [
        "from sklearn.ensemble import RandomForestRegressor\n",
        "\n",
        "rf_reg = RandomForestRegressor()\n",
        "\n",
        "rf_reg.fit(x_train, y_train)\n",
        "\n",
        "rf_pred_output = rf_reg.predict(x_test)\n",
        "\n",
        "rf_mse = mean_squared_error(y_test, rf_pred_output)\n",
        "\n",
        "print(\"Random Forest Regressor: \", rf_mse)"
      ],
      "metadata": {
        "colab": {
          "base_uri": "https://localhost:8080/"
        },
        "id": "TeheCqJroP8D",
        "outputId": "81822a6c-41f4-492b-ff52-62866f8b0ac1"
      },
      "execution_count": null,
      "outputs": [
        {
          "output_type": "stream",
          "name": "stdout",
          "text": [
            "Random Forest Regressor:  15129029502.624054\n"
          ]
        }
      ]
    },
    {
      "cell_type": "markdown",
      "source": [
        "## Gradient Boosting Regressor"
      ],
      "metadata": {
        "id": "_cIV0gR3ouy_"
      }
    },
    {
      "cell_type": "code",
      "source": [
        "from sklearn.ensemble import GradientBoostingRegressor\n",
        "\n",
        "GB_Regressor = GradientBoostingRegressor()\n",
        "\n",
        "GB_Regressor.fit(x_train, y_train)\n",
        "\n",
        "GB_pred_output = GB_Regressor.predict(x_test)\n",
        "\n",
        "GB_mse = mean_squared_error(y_test, GB_pred_output)\n",
        "\n",
        "print(\"Gradient Boosting Regressor: \", GB_mse)"
      ],
      "metadata": {
        "colab": {
          "base_uri": "https://localhost:8080/"
        },
        "id": "JIDUXi4Wosls",
        "outputId": "2be48490-1421-4852-eb07-ddd23d6d2aba"
      },
      "execution_count": null,
      "outputs": [
        {
          "output_type": "stream",
          "name": "stdout",
          "text": [
            "Gradient Boosting Regressor:  12389428333.079132\n"
          ]
        }
      ]
    },
    {
      "cell_type": "markdown",
      "source": [
        "## Let's print all values and see which one is better"
      ],
      "metadata": {
        "id": "eruUCNiVtuSN"
      }
    },
    {
      "cell_type": "code",
      "source": [
        "all_values = {\n",
        "    \"Linear Regression\": mse,\n",
        "    \"Decision Tree Regressor\": dt_mse,\n",
        "    \"Random Forest Regressor\": rf_mse,\n",
        "    \"Gradient Boosting Regressor\": GB_mse\n",
        "}\n",
        "\n",
        "sorted_values = sorted(all_values.items(), key=lambda x: x[1])\n",
        "\n",
        "for rank, (key, value) in enumerate(sorted_values, start=1):\n",
        "    print(f\"{rank}. {key}: {value}\")"
      ],
      "metadata": {
        "colab": {
          "base_uri": "https://localhost:8080/"
        },
        "id": "v978m6lzp5SX",
        "outputId": "a08651b6-42df-462e-89e0-bb4b0678c693"
      },
      "execution_count": null,
      "outputs": [
        {
          "output_type": "stream",
          "name": "stdout",
          "text": [
            "1. Linear Regression: 10100187858.864885\n",
            "2. Gradient Boosting Regressor: 12389428333.079132\n",
            "3. Random Forest Regressor: 15129029502.624054\n",
            "4. Decision Tree Regressor: 31648891391.57867\n"
          ]
        }
      ]
    },
    {
      "cell_type": "code",
      "source": [],
      "metadata": {
        "id": "BEmngsWBuadN"
      },
      "execution_count": null,
      "outputs": []
    }
  ]
}